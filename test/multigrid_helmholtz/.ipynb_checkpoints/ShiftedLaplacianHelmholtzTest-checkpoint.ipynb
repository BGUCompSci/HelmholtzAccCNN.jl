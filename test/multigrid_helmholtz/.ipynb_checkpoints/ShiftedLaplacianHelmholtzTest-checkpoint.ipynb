{
 "cells": [
  {
   "cell_type": "code",
   "execution_count": null,
   "metadata": {},
   "outputs": [],
   "source": [
    "using LinearAlgebra\n",
    "using Reexport\n",
    "using Statistics\n",
    "using Flux\n",
    "using Flux: @functor\n",
    "using ImageFiltering, TestImages, ImageTransformations\n",
    "using ImageView, Images\n",
    "@reexport using Statistics\n",
    "@reexport using Flux, Flux.Zygote, Flux.Optimise\n",
    "using Plots\n",
    "pyplot();"
   ]
  },
  {
   "cell_type": "code",
   "execution_count": null,
   "metadata": {},
   "outputs": [],
   "source": [
    "include(\"vcycle_unet_methods.jl\");"
   ]
  },
  {
   "cell_type": "code",
   "execution_count": null,
   "metadata": {},
   "outputs": [],
   "source": [
    "# Grid\n",
    "\n",
    "n = 1024\n",
    "h = 1.0 ./ n\n",
    "n_cells = [n,n]\n",
    "src = Int32(n / 2)\n",
    "\n",
    "b = zeros(ComplexF64,tuple((n_cells.-1)...))\n",
    "b[src,src] = 1.0 ./ (h^2);"
   ]
  },
  {
   "cell_type": "code",
   "execution_count": null,
   "metadata": {},
   "outputs": [],
   "source": [
    "# Parameters\n",
    "\n",
    "gamma_val = 0.00001*2*pi;\n",
    "f = 40.0;\n",
    "kappa = ones(Float64,tuple(n_cells .-1...))\n",
    "omega = 2*pi*f;\n",
    "gamma = gamma_val * ones(ComplexF64,size(kappa));\n",
    "\n",
    "#pad_cells = [20;20]\n",
    "#gamma = absorbing_layer!(gamma, pad_cells, omega);"
   ]
  },
  {
   "cell_type": "code",
   "execution_count": null,
   "metadata": {},
   "outputs": [],
   "source": [
    "# V cycle\n",
    "\n",
    "v_cycle_iter = 30\n",
    "v1_iter = 1\n",
    "v2_iter = 20\n",
    "\n",
    "residual = zeros(v_cycle_iter)\n",
    "x = zeros(n-1,n-1)\n",
    "for i = 1:v_cycle_iter\n",
    "    global x, helmholtz_matrix = v_cycle_helmholtz!(n, h, x, b, kappa, omega, gamma; u = 1, v1_iter = v1_iter, v2_iter = v2_iter, alpha=0.5, log = 0)\n",
    "    res = helmholtz_chain!(reshape(x, n-1, n-1, 1, 1), helmholtz_matrix; h=h)\n",
    "    residual[i] = norm(b - res[:,:,1,1])\n",
    "end"
   ]
  },
  {
   "cell_type": "code",
   "execution_count": null,
   "metadata": {},
   "outputs": [],
   "source": [
    "heatmap(real(reshape(x,size(gamma))), color=:greys, yflip=true, title = \"V-Cycle Shifted Laplacian\")"
   ]
  },
  {
   "cell_type": "code",
   "execution_count": null,
   "metadata": {},
   "outputs": [],
   "source": [
    "iter = range(1, length=v_cycle_iter)\n",
    "p = plot(iter,residual,label=\"Helmholtz Residual\")\n",
    "yaxis!(\"|| Error ||\", :log10)\n",
    "xlabel!(\"Iterations\")"
   ]
  },
  {
   "cell_type": "code",
   "execution_count": null,
   "metadata": {},
   "outputs": [],
   "source": []
  }
 ],
 "metadata": {
  "kernelspec": {
   "display_name": "JuliaPro_v1.4.2-1 1.4.2",
   "language": "julia",
   "name": "juliapro_v1.4.2-1-1.4"
  },
  "language_info": {
   "file_extension": ".jl",
   "mimetype": "application/julia",
   "name": "julia",
   "version": "1.4.2"
  }
 },
 "nbformat": 4,
 "nbformat_minor": 2
}
