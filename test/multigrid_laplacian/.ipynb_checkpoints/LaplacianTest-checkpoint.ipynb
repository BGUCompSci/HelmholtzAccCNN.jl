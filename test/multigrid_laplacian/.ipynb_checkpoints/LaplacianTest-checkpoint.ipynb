{
 "cells": [
  {
   "cell_type": "code",
   "execution_count": null,
   "metadata": {},
   "outputs": [
    {
     "name": "stderr",
     "output_type": "stream",
     "text": [
      "┌ Warning: `haskey(::TargetIterator, name::String)` is deprecated, use `Target(; name = name) !== nothing` instead.\n",
      "│   caller = llvm_compat(::VersionNumber) at compatibility.jl:176\n",
      "└ @ CUDAnative C:\\Users\\yaels\\.juliapro\\JuliaPro_v1.4.2-1\\packages\\CUDAnative\\C91oY\\src\\compatibility.jl:176\n"
     ]
    }
   ],
   "source": [
    "using LinearAlgebra\n",
    "using Reexport\n",
    "\n",
    "using Flux\n",
    "using Flux: @functor\n",
    "\n",
    "using ImageCore\n",
    "using ImageTransformations: imresize\n",
    "using FileIO\n",
    "using Distributions: Normal\n",
    "using StatsBase: sample, shuffle\n",
    "\n",
    "using ImageFiltering, TestImages, ImageTransformations\n",
    "using ImageView, Images\n",
    "\n",
    "@reexport using Statistics\n",
    "@reexport using Flux, Flux.Zygote, Flux.Optimise\n",
    "using Plots\n",
    "pyplot();"
   ]
  },
  {
   "cell_type": "code",
   "execution_count": null,
   "metadata": {},
   "outputs": [],
   "source": [
    "img = Gray.(testimage(\"mandrill\"));\n",
    "img = imresize(img, ratio=1/2);\n",
    "img_mat = convert(Array{Float64}, img);\n",
    "n = size(img_mat,1)\n",
    "h = 1.0/n\n",
    "img_mat = reshape(img_mat[1:end-1,1:end-1], n-1, n-1, 1, 1);"
   ]
  },
  {
   "cell_type": "code",
   "execution_count": null,
   "metadata": {},
   "outputs": [],
   "source": [
    "laplacian_filter = [0 -1 0;-1 4.0 -1;0 -1 0]\n",
    "smooth_up_filter = reshape((1/4)*[1 2 1;2 4.0 2;1 2 1],3,3,1,1)\n",
    "smooth_down_filter = reshape((1/16)*[1 2 1;2 4 2;1 2 1],3,3,1,1);"
   ]
  },
  {
   "cell_type": "code",
   "execution_count": null,
   "metadata": {},
   "outputs": [],
   "source": [
    "function laplacian_conv!(grid; h= 1)\n",
    "    filter = reshape((1.0 / (h^2)) * laplacian_filter,3,3,1,1)\n",
    "    conv = Conv(filter,[0.0],pad=(1,1))\n",
    "    return conv(grid)\n",
    "end"
   ]
  },
  {
   "cell_type": "code",
   "execution_count": null,
   "metadata": {},
   "outputs": [],
   "source": [
    "up = ConvTranspose(smooth_up_filter, [0.0], stride=2)"
   ]
  },
  {
   "cell_type": "code",
   "execution_count": null,
   "metadata": {},
   "outputs": [],
   "source": [
    "down = Conv(smooth_down_filter, [0.0], stride=2)"
   ]
  },
  {
   "cell_type": "code",
   "execution_count": null,
   "metadata": {},
   "outputs": [],
   "source": [
    "heatmap(img_mat[:,:,1,1], color = :greys, yflip=true, title = \"Original Image\")"
   ]
  },
  {
   "cell_type": "code",
   "execution_count": null,
   "metadata": {},
   "outputs": [],
   "source": [
    "result_laplacian = laplacian_conv!(img_mat)\n",
    "heatmap(result_laplacian[:,:,1,1], color = :greys, yflip=true, title = \"Laplacian Filtered Image\")"
   ]
  },
  {
   "cell_type": "code",
   "execution_count": null,
   "metadata": {},
   "outputs": [],
   "source": [
    "result_down = down(img_mat)\n",
    "heatmap(result_down[:,:,1,1], color = :greys, yflip=true, title = \"Downsample\")"
   ]
  },
  {
   "cell_type": "code",
   "execution_count": null,
   "metadata": {},
   "outputs": [],
   "source": [
    "result_up = up(result_down)\n",
    "heatmap(result_up[:,:,1,1], color = :greys, yflip=true, title = \"Upsample\")"
   ]
  },
  {
   "cell_type": "code",
   "execution_count": null,
   "metadata": {},
   "outputs": [],
   "source": [
    "function jacobi_method!(n, h, x, b; max_iter=1, w=0.8)\n",
    "    for i in 1:max_iter\n",
    "        x_matrix = reshape(x, n-1, n-1, 1, 1)\n",
    "        result_laplacian = laplacian_conv!(x_matrix; h=h)\n",
    "        residual = b - reshape(result_laplacian, length(result_laplacian), 1)\n",
    "        d = 4.0 / h^2\n",
    "        x = x + w * (1.0/d) * residual\n",
    "    end\n",
    "    return x\n",
    "end"
   ]
  },
  {
   "cell_type": "code",
   "execution_count": null,
   "metadata": {},
   "outputs": [],
   "source": [
    "function unet_v_cycle!(n, h, x, b; u = 1, v1_iter = 1, v2_iter = 10, log = 0)\n",
    "    \n",
    "    # Relax on Ax = b v1_iter times with initial guess x\n",
    "    x = jacobi_method!(n, h, x, b; max_iter=v1_iter)\n",
    "    \n",
    "    if( n%2 == 0 && n > 4 )\n",
    "        \n",
    "        # Compute residual on fine grid\n",
    "        x_matrix = reshape(x, n-1, n-1, 1, 1)\n",
    "        result_laplacian = laplacian_conv!(x_matrix; h=h)\n",
    "        residual_fine = b - reshape(result_laplacian, length(result_laplacian), 1)\n",
    "        residual_fine_matrix = reshape(residual_fine, n-1, n-1, 1, 1)\n",
    "        \n",
    "        # Compute residual on coarse grid\n",
    "        residual_coarse_matrix = down(residual_fine_matrix)\n",
    "        residual_coarse = reshape(residual_coarse_matrix, length(residual_coarse_matrix), 1)\n",
    "        \n",
    "        # Recursive operation of the method on the coarse grid\n",
    "        n_coarse = size(residual_coarse_matrix,1)+1\n",
    "        x_coarse = zeros((n_coarse-1)^2)\n",
    "        for i = 1:u\n",
    "            x_coarse = unet_v_cycle!(n_coarse, h*2, x_coarse, residual_coarse; u=u, v1_iter=v1_iter, v2_iter=v2_iter)\n",
    "        end\n",
    "        x_coarse_matrix = reshape(x_coarse, n_coarse-1, n_coarse-1, 1, 1)\n",
    "\n",
    "        # Correct\n",
    "        fine_error_matrix = up(x_coarse_matrix)\n",
    "        fine_error = reshape(fine_error_matrix, length(fine_error_matrix), 1)        \n",
    "        x = x + fine_error\n",
    "        \n",
    "        if log == 1\n",
    "            r1 = residual_fine\n",
    "            r2 = b - reshape(laplacian_conv!(reshape(x, n-1, n-1, 1, 1); h=h), length(b), 1)\n",
    "            println(\"Norm of n = $(n), x = $(norm(x)), fine_error = $(norm(fine_error)), r1 =$(norm(r1)), r2 =$(norm(r2))\")\n",
    "        end\n",
    "    else\n",
    "        # Coarsest grid\n",
    "        x = jacobi_method!(n, h, x, b; max_iter=v2_iter)\n",
    "        \n",
    "    end\n",
    "    \n",
    "    # Relax on Ax = b v1_iter times with initial guess x\n",
    "    x = jacobi_method!(n, h, x, b; max_iter=v1_iter)\n",
    "    \n",
    "    return x\n",
    "end"
   ]
  },
  {
   "cell_type": "code",
   "execution_count": null,
   "metadata": {},
   "outputs": [],
   "source": [
    "result_laplacian = laplacian_conv!(img_mat;h=h)\n",
    "b = reshape(result_laplacian, length(result_laplacian), 1)\n",
    "init = randn(tuple(((n-1)^2)...))\n",
    "\n",
    "iterations = 30\n",
    "jacobi_iterations = 600\n",
    "residual = zeros(iterations,2);"
   ]
  },
  {
   "cell_type": "code",
   "execution_count": null,
   "metadata": {},
   "outputs": [],
   "source": [
    "# V-cycle\n",
    "\n",
    "v1_iter = 1\n",
    "v2_iter = floor(Int,jacobi_iterations/(iterations))-2*log2(n)\n",
    "\n",
    "x = init\n",
    "x_matrix = reshape(x, n-1, n-1, 1, 1)\n",
    "\n",
    "for i = 1:iterations\n",
    "    \n",
    "    global x = unet_v_cycle!(n, h, x, b; u=1, v1_iter=v1_iter, v2_iter=v2_iter)\n",
    "    x_matrix = reshape(x, n-1, n-1, 1, 1)\n",
    "    result_laplacian = laplacian_conv!(x_matrix;h=h)\n",
    "    residual[i,1] = norm(reshape(result_laplacian, length(result_laplacian), 1) - b)\n",
    "    \n",
    "end"
   ]
  },
  {
   "cell_type": "code",
   "execution_count": null,
   "metadata": {},
   "outputs": [],
   "source": [
    "heatmap(x_matrix[:,:,1,1], color = :greys, yflip=true, title = \"V-Cycle Result\")"
   ]
  },
  {
   "cell_type": "code",
   "execution_count": null,
   "metadata": {},
   "outputs": [],
   "source": [
    "# Jacobi\n",
    "\n",
    "x = init \n",
    "x_matrix = reshape(x, n-1, n-1, 1, 1)\n",
    "\n",
    "result_laplacian = laplacian_conv!(img_mat)\n",
    "b = reshape(result_laplacian, length(result_laplacian), 1)\n",
    "\n",
    "for i = 1:iterations\n",
    "    \n",
    "    x = jacobi_method!(n, 1.0, x, b; max_iter=floor(Int,jacobi_iterations/(iterations)))\n",
    "    x_matrix = reshape(x, n-1, n-1, 1, 1)\n",
    "    result_laplacian = laplacian_conv!(x_matrix)\n",
    "    residual[i,2] = norm(reshape(result_laplacian, length(result_laplacian), 1) - b)\n",
    "    \n",
    "end"
   ]
  },
  {
   "cell_type": "code",
   "execution_count": null,
   "metadata": {},
   "outputs": [],
   "source": [
    "heatmap(x_matrix[:,:,1,1], color = :greys, yflip=true, title = \"Jacobi Result\")"
   ]
  },
  {
   "cell_type": "code",
   "execution_count": null,
   "metadata": {},
   "outputs": [],
   "source": [
    "iter = range(1, length=iterations, jacobi_iterations)\n",
    "p = plot(iter,residual[:,1],label=\"V cycle\")\n",
    "plot!(iter,residual[:,2],label=\"Jacobi\")\n",
    "yaxis!(\"|| Error ||\", :log10)\n",
    "xlabel!(\"Iterations\")"
   ]
  }
 ],
 "metadata": {
  "kernelspec": {
   "display_name": "JuliaPro_v1.4.2-1 1.4.2",
   "language": "julia",
   "name": "juliapro_v1.4.2-1-1.4"
  },
  "language_info": {
   "file_extension": ".jl",
   "mimetype": "application/julia",
   "name": "julia",
   "version": "1.4.2"
  }
 },
 "nbformat": 4,
 "nbformat_minor": 2
}
